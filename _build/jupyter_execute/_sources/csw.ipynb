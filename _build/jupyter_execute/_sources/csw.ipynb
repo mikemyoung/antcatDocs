{
 "cells": [
  {
   "cell_type": "markdown",
   "id": "3f745a04",
   "metadata": {},
   "source": [
    "# Catalogue Service for the Web\n",
    "\n",
    "The Catalogue Service for the Web (CSW) end point exposes the metadata records in in XML format using the OGC CSW protocol. This makes it possible for other data aggegators/systems/data products to access and use the metadata and assocaited data in our catalgoue. \n",
    "\n",
    "The CSW protocol is currently being used by the [Data.govt.nz Catalogue](https://catalogue.data.govt.nz/dataset/?_organization_limit=0&organization=antarctica-new-zealand) to harvest the catalogue's metadata records.\n",
    "\n",
    "GeoNetwork's [CSW Documentation](https://docs.geonetwork-opensource.org/4.4/api/csw/) provides a detailed description of the endpoint.\n",
    "\n",
    "Example:"
   ]
  },
  {
   "cell_type": "code",
   "execution_count": 1,
   "id": "17586dca",
   "metadata": {},
   "outputs": [],
   "source": [
    "# https://antcat.antarcticanz.govt.nz/geonetwork/srv/eng/csw?service=CSW&version=2.0.2&request=GetRecordById&id=ec3ea6f7-93ec-479e-934a-5db834f05646&ElementSetName=full&outputSchema=http://www.isotc211.org/2005/gmd"
   ]
  }
 ],
 "metadata": {
  "jupytext": {
   "formats": "md:myst",
   "text_representation": {
    "extension": ".md",
    "format_name": "myst",
    "format_version": 0.13,
    "jupytext_version": "1.11.5"
   }
  },
  "kernelspec": {
   "display_name": "Python 3",
   "language": "python",
   "name": "python3"
  },
  "language_info": {
   "codemirror_mode": {
    "name": "ipython",
    "version": 3
   },
   "file_extension": ".py",
   "mimetype": "text/x-python",
   "name": "python",
   "nbconvert_exporter": "python",
   "pygments_lexer": "ipython3",
   "version": "3.10.0"
  },
  "source_map": [
   13,
   25
  ]
 },
 "nbformat": 4,
 "nbformat_minor": 5
}